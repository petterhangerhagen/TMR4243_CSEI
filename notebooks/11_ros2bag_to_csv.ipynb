{
 "cells": [
  {
   "cell_type": "markdown",
   "metadata": {},
   "source": [
    "# How to use ros2bag_to_csv.py\n",
    "\n",
    "We have made available a script ros2bag_to_csv.py which reads out the data from a ros2 bag and saves the info from the topics in csv files. \n",
    "\n",
    "The best way of using the script is to run it through your terminal. Use the following command:\n"
   ]
  },
  {
   "cell_type": "code",
   "execution_count": null,
   "metadata": {
    "vscode": {
     "languageId": "plaintext"
    }
   },
   "outputs": [],
   "source": [
    "python3 ros2bag_to_csv.py /home/ubuntu/data/csvs/ /home/ubuntu/rosbags/rosbag_name.db3"
   ]
  },
  {
   "cell_type": "markdown",
   "metadata": {},
   "source": [
    "- /home/ubuntu/data/csvs/ is where the csv files are stored.\n",
    "- /home/ubuntu/rosbags/rosbag_name.db3 is where the rosbag are stored.\n",
    "\n",
    "Recommands copying the script and put it inside a /data direcotory and creating a directory /rosbags, where you store the ros2 bags."
   ]
  }
 ],
 "metadata": {
  "language_info": {
   "name": "python"
  }
 },
 "nbformat": 4,
 "nbformat_minor": 2
}
